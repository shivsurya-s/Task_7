{
  "nbformat": 4,
  "nbformat_minor": 0,
  "metadata": {
    "colab": {
      "name": "Assignment_10.ipynb",
      "provenance": [],
      "authorship_tag": "ABX9TyPpz2KXvg3qqpDiWijUGMXY",
      "include_colab_link": true
    },
    "kernelspec": {
      "name": "python3",
      "display_name": "Python 3"
    },
    "language_info": {
      "name": "python"
    }
  },
  "cells": [
    {
      "cell_type": "markdown",
      "metadata": {
        "id": "view-in-github",
        "colab_type": "text"
      },
      "source": [
        "<a href=\"https://colab.research.google.com/github/shivsurya-s/Task_7/blob/main/Assignment_10.ipynb\" target=\"_parent\"><img src=\"https://colab.research.google.com/assets/colab-badge.svg\" alt=\"Open In Colab\"/></a>"
      ]
    },
    {
      "cell_type": "code",
      "execution_count": 1,
      "metadata": {
        "id": "tJ31eDQlQeGl"
      },
      "outputs": [],
      "source": [
        "import pandas as pd\n",
        "import numpy as np\n",
        "import plotly.express as px\n",
        "import seaborn as sns\n",
        "import matplotlib.pyplot as plt"
      ]
    },
    {
      "cell_type": "code",
      "source": [
        "train=pd.read_csv(\"https://raw.githubusercontent.com/shivsurya-s/Task_7/main/Dataset/trainKNN.txt\",header=None,sep=',',\n",
        "names=['Id number','RI','Na','Mg','Al','Si','K','Ca','Ba','Fe','Type of glass'])"
      ],
      "metadata": {
        "id": "A-SIO-WjQi5n"
      },
      "execution_count": 3,
      "outputs": []
    },
    {
      "cell_type": "code",
      "source": [
        "test=pd.read_csv(\"https://raw.githubusercontent.com/shivsurya-s/Task_7/main/Dataset/testKNN.txt\",header=None,sep=',',\n",
        "names=['Id number','RI','Na','Mg','Al','Si','K','Ca','Ba','Fe','Type of glass'])"
      ],
      "metadata": {
        "id": "riBya195Qi8C"
      },
      "execution_count": 4,
      "outputs": []
    },
    {
      "cell_type": "code",
      "source": [
        "print(train.shape)\n",
        "print(test.shape)"
      ],
      "metadata": {
        "colab": {
          "base_uri": "https://localhost:8080/"
        },
        "id": "DI6BQeVUQi-z",
        "outputId": "c933cf95-6275-4615-b4ac-45e207916a37"
      },
      "execution_count": 5,
      "outputs": [
        {
          "output_type": "stream",
          "name": "stdout",
          "text": [
            "(196, 11)\n",
            "(18, 11)\n"
          ]
        }
      ]
    },
    {
      "cell_type": "code",
      "source": [
        "print(train.isna().sum())\n",
        "print(test.isna().sum())"
      ],
      "metadata": {
        "colab": {
          "base_uri": "https://localhost:8080/"
        },
        "id": "T1Rb5lkoQjBf",
        "outputId": "cfc1a396-25f6-4fd5-da7c-92502e6cd33a"
      },
      "execution_count": 6,
      "outputs": [
        {
          "output_type": "stream",
          "name": "stdout",
          "text": [
            "Id number        0\n",
            "RI               0\n",
            "Na               0\n",
            "Mg               0\n",
            "Al               0\n",
            "Si               0\n",
            "K                0\n",
            "Ca               0\n",
            "Ba               0\n",
            "Fe               0\n",
            "Type of glass    0\n",
            "dtype: int64\n",
            "Id number        0\n",
            "RI               0\n",
            "Na               0\n",
            "Mg               0\n",
            "Al               0\n",
            "Si               0\n",
            "K                0\n",
            "Ca               0\n",
            "Ba               0\n",
            "Fe               0\n",
            "Type of glass    0\n",
            "dtype: int64\n"
          ]
        }
      ]
    },
    {
      "cell_type": "code",
      "source": [
        "print(train.info())"
      ],
      "metadata": {
        "colab": {
          "base_uri": "https://localhost:8080/"
        },
        "id": "5KIwtFunQjET",
        "outputId": "d61b03f2-50e7-43ac-96f2-7efc9e9d2a31"
      },
      "execution_count": 7,
      "outputs": [
        {
          "output_type": "stream",
          "name": "stdout",
          "text": [
            "<class 'pandas.core.frame.DataFrame'>\n",
            "RangeIndex: 196 entries, 0 to 195\n",
            "Data columns (total 11 columns):\n",
            " #   Column         Non-Null Count  Dtype  \n",
            "---  ------         --------------  -----  \n",
            " 0   Id number      196 non-null    int64  \n",
            " 1   RI             196 non-null    float64\n",
            " 2   Na             196 non-null    float64\n",
            " 3   Mg             196 non-null    float64\n",
            " 4   Al             196 non-null    float64\n",
            " 5   Si             196 non-null    float64\n",
            " 6   K              196 non-null    float64\n",
            " 7   Ca             196 non-null    float64\n",
            " 8   Ba             196 non-null    float64\n",
            " 9   Fe             196 non-null    float64\n",
            " 10  Type of glass  196 non-null    int64  \n",
            "dtypes: float64(9), int64(2)\n",
            "memory usage: 17.0 KB\n",
            "None\n"
          ]
        }
      ]
    },
    {
      "cell_type": "code",
      "source": [
        "print(test.info())"
      ],
      "metadata": {
        "colab": {
          "base_uri": "https://localhost:8080/"
        },
        "id": "tk8koGrjQjG4",
        "outputId": "0506b801-1d2e-4c8a-c9b8-28e42b4d9fce"
      },
      "execution_count": 8,
      "outputs": [
        {
          "output_type": "stream",
          "name": "stdout",
          "text": [
            "<class 'pandas.core.frame.DataFrame'>\n",
            "RangeIndex: 18 entries, 0 to 17\n",
            "Data columns (total 11 columns):\n",
            " #   Column         Non-Null Count  Dtype  \n",
            "---  ------         --------------  -----  \n",
            " 0   Id number      18 non-null     int64  \n",
            " 1   RI             18 non-null     float64\n",
            " 2   Na             18 non-null     float64\n",
            " 3   Mg             18 non-null     float64\n",
            " 4   Al             18 non-null     float64\n",
            " 5   Si             18 non-null     float64\n",
            " 6   K              18 non-null     float64\n",
            " 7   Ca             18 non-null     float64\n",
            " 8   Ba             18 non-null     float64\n",
            " 9   Fe             18 non-null     float64\n",
            " 10  Type of glass  18 non-null     int64  \n",
            "dtypes: float64(9), int64(2)\n",
            "memory usage: 1.7 KB\n",
            "None\n"
          ]
        }
      ]
    },
    {
      "cell_type": "code",
      "source": [
        "features = train.columns[:-1].tolist()\n",
        "features"
      ],
      "metadata": {
        "colab": {
          "base_uri": "https://localhost:8080/"
        },
        "id": "8daSpiv9QjJr",
        "outputId": "b15762ab-ebff-458e-db12-53618bc40bb2"
      },
      "execution_count": 9,
      "outputs": [
        {
          "output_type": "execute_result",
          "data": {
            "text/plain": [
              "['Id number', 'RI', 'Na', 'Mg', 'Al', 'Si', 'K', 'Ca', 'Ba', 'Fe']"
            ]
          },
          "metadata": {},
          "execution_count": 9
        }
      ]
    },
    {
      "cell_type": "code",
      "source": [
        "for col in features:\n",
        "    skew = train[col].skew()\n",
        "    sns.distplot(train[col],kde=False,label='Skew = %.3f' %(skew),bins=30)\n",
        "    plt.legend(loc='best')\n",
        "    plt.show()"
      ],
      "metadata": {
        "colab": {
          "base_uri": "https://localhost:8080/",
          "height": 1000
        },
        "id": "thZ10CTlQjMZ",
        "outputId": "354b0759-4468-40cc-8764-822c28cfc5e4"
      },
      "execution_count": 10,
      "outputs": [
        {
          "output_type": "stream",
          "name": "stderr",
          "text": [
            "/usr/local/lib/python3.7/dist-packages/seaborn/distributions.py:2619: FutureWarning: `distplot` is a deprecated function and will be removed in a future version. Please adapt your code to use either `displot` (a figure-level function with similar flexibility) or `histplot` (an axes-level function for histograms).\n",
            "  warnings.warn(msg, FutureWarning)\n"
          ]
        },
        {
          "output_type": "display_data",
          "data": {
            "text/plain": [
              "<Figure size 432x288 with 1 Axes>"
            ],
            "image/png": "[encoded data removed]"
          },
          "metadata": {
            "needs_background": "light"
          }
        },
        {
          "output_type": "display_data",
          "data": {
            "text/plain": [
              "<Figure size 432x288 with 1 Axes>"
            ],
            "image/png": "[encoded data removed]"
          },
          "metadata": {
            "needs_background": "light"
          }
        },
        {
          "output_type": "display_data",
          "data": {
            "text/plain": [
              "<Figure size 432x288 with 1 Axes>"
            ],
            "image/png": "[encoded data removed]"
          },
          "metadata": {
            "needs_background": "light"
          }
        },
        {
          "output_type": "display_data",
          "data": {
            "text/plain": [
              "<Figure size 432x288 with 1 Axes>"
            ],
            "image/png": "[encoded data removed]"
          },
          "metadata": {
            "needs_background": "light"
          }
        },
        {
          "output_type": "display_data",
          "data": {
            "text/plain": [
              "<Figure size 432x288 with 1 Axes>"
            ],
            "image/png": "[encoded data removed]"
          },
          "metadata": {
            "needs_background": "light"
          }
        },
        {
          "output_type": "display_data",
          "data": {
            "text/plain": [
              "<Figure size 432x288 with 1 Axes>"
            ],
            "image/png": "[encoded data removed]"
          },
          "metadata": {
            "needs_background": "light"
          }
        },
        {
          "output_type": "display_data",
          "data": {
            "text/plain": [
              "<Figure size 432x288 with 1 Axes>"
            ],
            "image/png": "[encoded data removed]"
          },
          "metadata": {
            "needs_background": "light"
          }
        },
        {
          "output_type": "display_data",
          "data": {
            "text/plain": [
              "<Figure size 432x288 with 1 Axes>"
            ],
            "image/png": "[encoded data removed]"
          },
          "metadata": {
            "needs_background": "light"
          }
        },
        {
          "output_type": "display_data",
          "data": {
            "text/plain": [
              "<Figure size 432x288 with 1 Axes>"
            ],
            "image/png": "[encoded data removed]"
          },
          "metadata": {
            "needs_background": "light"
          }
        },
        {
          "output_type": "display_data",
          "data": {
            "text/plain": [
              "<Figure size 432x288 with 1 Axes>"
            ],
            "image/png": "[encoded data removed]"
          },
          "metadata": {
            "needs_background": "light"
          }
        }
      ]
    },
    {
      "cell_type": "code",
      "source": [
        "sns.countplot(train['Type of glass'])"
      ],
      "metadata": {
        "colab": {
          "base_uri": "https://localhost:8080/",
          "height": 351
        },
        "id": "iCojkM_OQjPO",
        "outputId": "25f81432-eeb1-48ac-e4ef-b533da4de4dc"
      },
      "execution_count": 11,
      "outputs": [
        {
          "output_type": "stream",
          "name": "stderr",
          "text": [
            "/usr/local/lib/python3.7/dist-packages/seaborn/_decorators.py:43: FutureWarning: Pass the following variable as a keyword arg: x. From version 0.12, the only valid positional argument will be `data`, and passing other arguments without an explicit keyword will result in an error or misinterpretation.\n",
            "  FutureWarning\n"
          ]
        },
        {
          "output_type": "execute_result",
          "data": {
            "text/plain": [
              "<matplotlib.axes._subplots.AxesSubplot at 0x7f5e54818690>"
            ]
          },
          "metadata": {},
          "execution_count": 11
        },
        {
          "output_type": "display_data",
          "data": {
            "text/plain": [
              "<Figure size 432x288 with 1 Axes>"
            ],
            "image/png": "[encoded data removed]"
          },
          "metadata": {
            "needs_background": "light"
          }
        }
      ]
    },
    {
      "cell_type": "code",
      "source": [
        "x_train = train.drop(columns=['Type of glass',],axis=1)\n",
        "\n",
        "x_test = test.drop(columns=['Type of glass'],axis=1)\n",
        "\n",
        "\n",
        "y_train = train['Type of glass']\n",
        "\n",
        "y_test = test['Type of glass']"
      ],
      "metadata": {
        "id": "8Rd5CBz5QjSN"
      },
      "execution_count": 12,
      "outputs": []
    },
    {
      "cell_type": "code",
      "source": [
        "from sklearn.preprocessing import StandardScaler\n",
        "scaler = StandardScaler()\n",
        "x_train = scaler.fit_transform(x_train)\n",
        "x_test = scaler.transform(x_test)"
      ],
      "metadata": {
        "id": "B-3fyrf0QjUx"
      },
      "execution_count": 13,
      "outputs": []
    },
    {
      "cell_type": "code",
      "source": [
        "from sklearn.neighbors import KNeighborsClassifier \n",
        "from sklearn.metrics import accuracy_score "
      ],
      "metadata": {
        "id": "K-GXCPn6QjXi"
      },
      "execution_count": 14,
      "outputs": []
    },
    {
      "cell_type": "code",
      "source": [
        "classifier= KNeighborsClassifier(n_neighbors=5,metric='euclidean', p=2 )  \n",
        "classifier.fit(x_train, y_train) "
      ],
      "metadata": {
        "colab": {
          "base_uri": "https://localhost:8080/"
        },
        "id": "-LuRu_84QjaT",
        "outputId": "b19ef0f5-5b6b-440c-84a8-3cede7408800"
      },
      "execution_count": 15,
      "outputs": [
        {
          "output_type": "execute_result",
          "data": {
            "text/plain": [
              "KNeighborsClassifier(metric='euclidean')"
            ]
          },
          "metadata": {},
          "execution_count": 15
        }
      ]
    },
    {
      "cell_type": "code",
      "source": [
        "euclid_pred = classifier.predict(x_test)"
      ],
      "metadata": {
        "id": "tBcjxb9KQjdE"
      },
      "execution_count": 16,
      "outputs": []
    },
    {
      "cell_type": "code",
      "source": [
        "euclid_score = accuracy_score(y_test,euclid_pred)\n",
        "euclid_score = euclid_score*100\n",
        "\n",
        "euclid_score"
      ],
      "metadata": {
        "colab": {
          "base_uri": "https://localhost:8080/"
        },
        "id": "mx9r4Z0jRKbC",
        "outputId": "a041510f-5f34-4a97-a2b7-df8420d1ffec"
      },
      "execution_count": 23,
      "outputs": [
        {
          "output_type": "execute_result",
          "data": {
            "text/plain": [
              "66.66666666666666"
            ]
          },
          "metadata": {},
          "execution_count": 23
        }
      ]
    },
    {
      "cell_type": "code",
      "source": [
        "classifier.score(x_test,y_test)*100"
      ],
      "metadata": {
        "colab": {
          "base_uri": "https://localhost:8080/"
        },
        "id": "WtIyhyjRRKdz",
        "outputId": "64b5489a-f0a3-4b35-9b02-e4dbb1d7ad55"
      },
      "execution_count": 18,
      "outputs": [
        {
          "output_type": "execute_result",
          "data": {
            "text/plain": [
              "66.66666666666666"
            ]
          },
          "metadata": {},
          "execution_count": 18
        }
      ]
    },
    {
      "cell_type": "code",
      "source": [
        "classifier= KNeighborsClassifier(metric='manhattan')  \n",
        "classifier.fit(x_train, y_train)  "
      ],
      "metadata": {
        "colab": {
          "base_uri": "https://localhost:8080/"
        },
        "id": "BpNkGl0-RKgP",
        "outputId": "095bfd73-1423-4c3b-c8f0-8788af06b785"
      },
      "execution_count": 19,
      "outputs": [
        {
          "output_type": "execute_result",
          "data": {
            "text/plain": [
              "KNeighborsClassifier(metric='manhattan')"
            ]
          },
          "metadata": {},
          "execution_count": 19
        }
      ]
    },
    {
      "cell_type": "code",
      "source": [
        "manhat_pred = classifier.predict(x_test)"
      ],
      "metadata": {
        "id": "07vF-9NHRKi6"
      },
      "execution_count": 20,
      "outputs": []
    },
    {
      "cell_type": "code",
      "source": [
        "manhat_score= accuracy_score(y_test,manhat_pred)*100\n",
        "manhat_score"
      ],
      "metadata": {
        "colab": {
          "base_uri": "https://localhost:8080/"
        },
        "id": "CcqhgVf6RKlx",
        "outputId": "41a53bdd-3489-4cdf-d8f3-e80fd3867ce8"
      },
      "execution_count": 24,
      "outputs": [
        {
          "output_type": "execute_result",
          "data": {
            "text/plain": [
              "72.22222222222221"
            ]
          },
          "metadata": {},
          "execution_count": 24
        }
      ]
    },
    {
      "cell_type": "code",
      "source": [
        "from sklearn.metrics import classification_report"
      ],
      "metadata": {
        "id": "M4bqEBY7RKo2"
      },
      "execution_count": 25,
      "outputs": []
    },
    {
      "cell_type": "code",
      "source": [
        "print(classification_report(y_test,manhat_pred))"
      ],
      "metadata": {
        "colab": {
          "base_uri": "https://localhost:8080/"
        },
        "id": "dGjVTmCCRKq2",
        "outputId": "a5a60814-1ff8-4f4d-d093-1a8cd8a0ac0b"
      },
      "execution_count": 26,
      "outputs": [
        {
          "output_type": "stream",
          "name": "stdout",
          "text": [
            "              precision    recall  f1-score   support\n",
            "\n",
            "           1       0.75      1.00      0.86         3\n",
            "           2       0.50      1.00      0.67         3\n",
            "           3       1.00      0.33      0.50         3\n",
            "           5       1.00      0.67      0.80         3\n",
            "           6       1.00      0.33      0.50         3\n",
            "           7       0.75      1.00      0.86         3\n",
            "\n",
            "    accuracy                           0.72        18\n",
            "   macro avg       0.83      0.72      0.70        18\n",
            "weighted avg       0.83      0.72      0.70        18\n",
            "\n"
          ]
        }
      ]
    },
    {
      "cell_type": "code",
      "source": [
        "clf_report = pd.DataFrame(classification_report(y_test, manhat_pred, output_dict=True))\n",
        "print(f\"CLASSIFICATION REPORT:\\n{clf_report}\")"
      ],
      "metadata": {
        "colab": {
          "base_uri": "https://localhost:8080/"
        },
        "id": "IdRlZb1iRht1",
        "outputId": "08fc0d08-5e32-44ea-8226-9e167df218b5"
      },
      "execution_count": 27,
      "outputs": [
        {
          "output_type": "stream",
          "name": "stdout",
          "text": [
            "CLASSIFICATION REPORT:\n",
            "                  1         2         3         5         6         7  \\\n",
            "precision  0.750000  0.500000  1.000000  1.000000  1.000000  0.750000   \n",
            "recall     1.000000  1.000000  0.333333  0.666667  0.333333  1.000000   \n",
            "f1-score   0.857143  0.666667  0.500000  0.800000  0.500000  0.857143   \n",
            "support    3.000000  3.000000  3.000000  3.000000  3.000000  3.000000   \n",
            "\n",
            "           accuracy  macro avg  weighted avg  \n",
            "precision  0.722222   0.833333      0.833333  \n",
            "recall     0.722222   0.722222      0.722222  \n",
            "f1-score   0.722222   0.696825      0.696825  \n",
            "support    0.722222  18.000000     18.000000  \n"
          ]
        }
      ]
    },
    {
      "cell_type": "code",
      "source": [
        "clf_report = pd.DataFrame(classification_report(y_test, euclid_pred, output_dict=True))\n",
        "print(f\"CLASSIFICATION REPORT:\\n{clf_report}\")"
      ],
      "metadata": {
        "colab": {
          "base_uri": "https://localhost:8080/"
        },
        "id": "u9FnuUQ7Rhww",
        "outputId": "956b7c4c-54e6-4fe4-acff-0e22f40cdf65"
      },
      "execution_count": 28,
      "outputs": [
        {
          "output_type": "stream",
          "name": "stdout",
          "text": [
            "CLASSIFICATION REPORT:\n",
            "             1         2         3         5         6         7  accuracy  \\\n",
            "precision  1.0  0.375000  1.000000  1.000000  1.000000  0.750000  0.666667   \n",
            "recall     1.0  1.000000  0.333333  0.333333  0.333333  1.000000  0.666667   \n",
            "f1-score   1.0  0.545455  0.500000  0.500000  0.500000  0.857143  0.666667   \n",
            "support    3.0  3.000000  3.000000  3.000000  3.000000  3.000000  0.666667   \n",
            "\n",
            "           macro avg  weighted avg  \n",
            "precision   0.854167      0.854167  \n",
            "recall      0.666667      0.666667  \n",
            "f1-score    0.650433      0.650433  \n",
            "support    18.000000     18.000000  \n"
          ]
        }
      ]
    }
  ]
}